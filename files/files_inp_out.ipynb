{
 "cells": [
  {
   "cell_type": "markdown",
   "metadata": {
    "collapsed": true
   },
   "source": [
    "# files I/O"
   ]
  },
  {
   "cell_type": "markdown",
   "metadata": {},
   "source": [
    "Until now, we have been reading and writing from the standard input and standard output. Now, we will read(and write) from other files."
   ]
  },
  {
   "cell_type": "markdown",
   "metadata": {},
   "source": [
    "### open"
   ]
  },
  {
   "cell_type": "markdown",
   "metadata": {},
   "source": [
    "Before we can read/write from/to a file, we need to open it first. Python provides a built-in funcion called **open** which can be called on the file which has to be opened."
   ]
  },
  {
   "cell_type": "code",
   "execution_count": null,
   "metadata": {},
   "outputs": [],
   "source": [
    "val = open('sample.txt')\n",
    "val"
   ]
  },
  {
   "cell_type": "markdown",
   "metadata": {},
   "source": [
    "We get a file object(which can be iterated to get data). "
   ]
  },
  {
   "cell_type": "code",
   "execution_count": null,
   "metadata": {},
   "outputs": [],
   "source": [
    "for v in val:\n",
    "    print(v)"
   ]
  },
  {
   "cell_type": "markdown",
   "metadata": {},
   "source": [
    "One important thing to do while opening a file is to specify the **mode** in which a file has to be opened. If we do not specify a mode, then it is set to the default mode which is read-only"
   ]
  },
  {
   "cell_type": "markdown",
   "metadata": {},
   "source": [
    "**rb** - read in binary mode"
   ]
  },
  {
   "cell_type": "markdown",
   "metadata": {},
   "source": [
    "The binary mode does not mean that file is read in binary(0s and 1s), it reads as it is present in the file. The difference between **r** and **rb** mode is in the way how the **end-of-the-line** is handled. "
   ]
  },
  {
   "cell_type": "markdown",
   "metadata": {},
   "source": [
    "When the file is opened in text-mode (**r**), Python replaces the OS specific end-of-the-line character read from the file with **\\n**."
   ]
  },
  {
   "cell_type": "markdown",
   "metadata": {},
   "source": [
    "**r+** - Opens a file for both reading and writing. The file pointer is at the beginning of the file."
   ]
  },
  {
   "cell_type": "code",
   "execution_count": null,
   "metadata": {},
   "outputs": [],
   "source": [
    "input_value = 'balls_tampering'\n",
    "\n",
    "with open('sample2.txt', 'r+') as f:\n",
    "    f.write(input_value)\n",
    "    f.close()"
   ]
  },
  {
   "cell_type": "markdown",
   "metadata": {},
   "source": [
    "What happens is it opens a file(if file is not present it will throw out an error) and replaces the content which is present in that file with the one we specify"
   ]
  },
  {
   "cell_type": "markdown",
   "metadata": {},
   "source": [
    "**w** - Opens a file for writing only. Overwrites the file if the file is already present or creates a new file with the specified name."
   ]
  },
  {
   "cell_type": "code",
   "execution_count": null,
   "metadata": {},
   "outputs": [],
   "source": [
    "with open('sample3.txt', 'w') as f:\n",
    "    f.write(input_value)\n",
    "    f.close()"
   ]
  },
  {
   "cell_type": "markdown",
   "metadata": {},
   "source": [
    "Now if we try to write something to the same file again, it replaces the content previously present inside that file."
   ]
  },
  {
   "cell_type": "code",
   "execution_count": null,
   "metadata": {},
   "outputs": [],
   "source": [
    "with open('sample3.txt', 'w') as f:\n",
    "    f.write('match-fixing')\n",
    "    f.close()"
   ]
  },
  {
   "cell_type": "markdown",
   "metadata": {},
   "source": [
    "**wb** - Opens a file for writing only in binary format. Again if the file exists, it is overwritten, else a new file is created."
   ]
  },
  {
   "cell_type": "code",
   "execution_count": null,
   "metadata": {},
   "outputs": [],
   "source": [
    "sample_value = \"\"\"\n",
    "                \n",
    "                There goes my baby...Ohoo \n",
    "                Hey...hey...\n",
    "                baby come back to me\n",
    "                \n",
    "                \"\"\"\n",
    "\n",
    "with open('write.txt', 'wb') as f:\n",
    "    f.write(sample_value)"
   ]
  },
  {
   "cell_type": "markdown",
   "metadata": {},
   "source": [
    "If we try to call read on the file object which is opened in write mode, we get IOError"
   ]
  },
  {
   "cell_type": "code",
   "execution_count": null,
   "metadata": {},
   "outputs": [],
   "source": [
    "with open('write.txt', 'w') as f:\n",
    "    f.read()"
   ]
  },
  {
   "cell_type": "markdown",
   "metadata": {},
   "source": [
    "**w+** - Opens a file for both writing and reading. Overwrites the existing file if the file exists. If the file does not exist, creates a new file for reading and writing."
   ]
  },
  {
   "cell_type": "code",
   "execution_count": null,
   "metadata": {},
   "outputs": [],
   "source": [
    "some_data = \"\"\"\n",
    "            \n",
    "            I will make him an offer he cannot refuse\n",
    "                                        - Vito Corleone\n",
    "                                        ( The Godfather )\n",
    "            \n",
    "            \"\"\"\n",
    "\n",
    "\n",
    "with open('sample.txt', 'w+') as f:\n",
    "    data = f.read()\n",
    "    if data:\n",
    "        print(data)\n",
    "    else:\n",
    "        f.write(some_data)"
   ]
  },
  {
   "cell_type": "markdown",
   "metadata": {},
   "source": [
    "All the above file operations does two things:\n",
    "1. Read/Write data\n",
    "2. Read and Write data\n",
    "But when we write data using the **r+ or w or w+**, it either creates a new file and writes the data if the file doesn't exist or overwrites the data which is already present in the file."
   ]
  },
  {
   "cell_type": "markdown",
   "metadata": {},
   "source": [
    "But, what if we want to add some data to an existing file without replacing the content which is already present in that file?"
   ]
  },
  {
   "cell_type": "markdown",
   "metadata": {},
   "source": [
    "That's where **'a'** mode comes into picture."
   ]
  },
  {
   "cell_type": "markdown",
   "metadata": {},
   "source": [
    "### a - append"
   ]
  },
  {
   "cell_type": "markdown",
   "metadata": {},
   "source": [
    "The **a** mode opens a file for appending. The file pointer is at the end of the file if the file exists. If the file doesn't exist, it creates a new file for writing."
   ]
  },
  {
   "cell_type": "code",
   "execution_count": null,
   "metadata": {},
   "outputs": [],
   "source": [
    "with open('sample2.txt', 'a') as f:\n",
    "    f.write(\" Cheaters!\")\n",
    "    f.close()"
   ]
  },
  {
   "cell_type": "markdown",
   "metadata": {},
   "source": [
    "# a+ - append and read"
   ]
  },
  {
   "cell_type": "markdown",
   "metadata": {},
   "source": [
    "The **a+** mode opens a file for both appending and reading. The file pointer is at the end of the file if the file exists. If it doesn't exist, then it opens a new file."
   ]
  },
  {
   "cell_type": "code",
   "execution_count": null,
   "metadata": {},
   "outputs": [],
   "source": [
    "with open('sample2.txt', 'a+') as f:\n",
    "    values = f.read()"
   ]
  },
  {
   "cell_type": "code",
   "execution_count": null,
   "metadata": {},
   "outputs": [],
   "source": [
    "values"
   ]
  },
  {
   "cell_type": "markdown",
   "metadata": {},
   "source": [
    "Now if the pointer is at the end of the file, how does it read???"
   ]
  },
  {
   "cell_type": "markdown",
   "metadata": {},
   "source": [
    "It turns out that when we call the **read()** on the file object the mode switches to 'r', in the sense, the pointer moves to the beginning of the file and starts reading the content."
   ]
  },
  {
   "cell_type": "markdown",
   "metadata": {},
   "source": [
    "# File object attributes"
   ]
  },
  {
   "cell_type": "markdown",
   "metadata": {},
   "source": [
    "Once a file is opened, we have one file object. We can get various information related to that file"
   ]
  },
  {
   "cell_type": "markdown",
   "metadata": {},
   "source": [
    "We can check the file mode"
   ]
  },
  {
   "cell_type": "code",
   "execution_count": null,
   "metadata": {},
   "outputs": [],
   "source": [
    "value = open('sample2.txt')\n",
    "value.mode"
   ]
  },
  {
   "cell_type": "markdown",
   "metadata": {},
   "source": [
    "We can get the filename"
   ]
  },
  {
   "cell_type": "code",
   "execution_count": null,
   "metadata": {},
   "outputs": [],
   "source": [
    "value.name"
   ]
  },
  {
   "cell_type": "markdown",
   "metadata": {},
   "source": [
    "We can check if the file object is closed or not"
   ]
  },
  {
   "cell_type": "code",
   "execution_count": null,
   "metadata": {},
   "outputs": [],
   "source": [
    "value.closed"
   ]
  },
  {
   "cell_type": "code",
   "execution_count": null,
   "metadata": {},
   "outputs": [],
   "source": [
    "value.close()\n",
    "value.closed"
   ]
  },
  {
   "cell_type": "code",
   "execution_count": null,
   "metadata": {},
   "outputs": [],
   "source": [
    "with open('samp.txt', 'w') as f:\n",
    "    f.write(\"no way \\n out\")\n",
    "    f.close()"
   ]
  },
  {
   "cell_type": "code",
   "execution_count": null,
   "metadata": {},
   "outputs": [],
   "source": [
    "with open('sam.txt', 'wb') as f:\n",
    "    f.write(\"no way \\n out\")\n",
    "    f.close()"
   ]
  },
  {
   "cell_type": "markdown",
   "metadata": {},
   "source": [
    "There is a function called readline, which just reads a single line, irrespective of how many lines of data is present in the file."
   ]
  },
  {
   "cell_type": "code",
   "execution_count": null,
   "metadata": {},
   "outputs": [],
   "source": [
    "with open('text.txt', 'rb') as f:\n",
    "    data = f.readline()\n",
    "    f.close()"
   ]
  },
  {
   "cell_type": "code",
   "execution_count": null,
   "metadata": {},
   "outputs": [],
   "source": [
    "data"
   ]
  },
  {
   "cell_type": "markdown",
   "metadata": {},
   "source": [
    "To read all the lines, there is a function called readlines()"
   ]
  },
  {
   "cell_type": "code",
   "execution_count": null,
   "metadata": {},
   "outputs": [],
   "source": [
    "song = open('text.txt', 'r')"
   ]
  },
  {
   "cell_type": "code",
   "execution_count": null,
   "metadata": {},
   "outputs": [],
   "source": [
    "dt = song.readlines()"
   ]
  },
  {
   "cell_type": "code",
   "execution_count": null,
   "metadata": {},
   "outputs": [],
   "source": [
    "dt"
   ]
  },
  {
   "cell_type": "code",
   "execution_count": null,
   "metadata": {},
   "outputs": [],
   "source": [
    "dt[0]"
   ]
  }
 ],
 "metadata": {
  "kernelspec": {
   "display_name": "Python 2",
   "language": "python",
   "name": "python2"
  },
  "language_info": {
   "codemirror_mode": {
    "name": "ipython",
    "version": 2
   },
   "file_extension": ".py",
   "mimetype": "text/x-python",
   "name": "python",
   "nbconvert_exporter": "python",
   "pygments_lexer": "ipython2",
   "version": "2.7.14"
  }
 },
 "nbformat": 4,
 "nbformat_minor": 1
}
