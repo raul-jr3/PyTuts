{
 "cells": [
  {
   "cell_type": "markdown",
   "metadata": {},
   "source": [
    "# datetime.timedelta"
   ]
  },
  {
   "cell_type": "markdown",
   "metadata": {},
   "source": [
    "we can perform some basic math on datetime objects using the timedelta method"
   ]
  },
  {
   "cell_type": "markdown",
   "metadata": {},
   "source": [
    "Only the date, seconds and microseconds are stored internally. \n",
    "The rest are converted to another format like:\n",
    "1. A millisecond is converted to 1000 microseconds\n",
    "2. A minute is converted to 60 seconds\n",
    "3. An hour is converted to 3600 seconds\n",
    "4. A week is converted to 7 days"
   ]
  },
  {
   "cell_type": "markdown",
   "metadata": {},
   "source": [
    "subtracting two date values produces a timedelta object"
   ]
  },
  {
   "cell_type": "code",
   "execution_count": null,
   "metadata": {},
   "outputs": [],
   "source": [
    "import datetime"
   ]
  },
  {
   "cell_type": "markdown",
   "metadata": {},
   "source": [
    "the minimum value is the most negative of timedelta object"
   ]
  },
  {
   "cell_type": "code",
   "execution_count": null,
   "metadata": {},
   "outputs": [],
   "source": [
    "datetime.timedelta.min"
   ]
  },
  {
   "cell_type": "markdown",
   "metadata": {},
   "source": [
    "The maximum is the most positive for timedelta object.\n",
    "1. days = 999999999\n",
    "2. hours = 23\n",
    "3. minutes = 59\n",
    "4. seconds = 59\n",
    "5. microseconds = 999999"
   ]
  },
  {
   "cell_type": "code",
   "execution_count": null,
   "metadata": {},
   "outputs": [],
   "source": [
    "datetime.timedelta.max"
   ]
  },
  {
   "cell_type": "code",
   "execution_count": null,
   "metadata": {},
   "outputs": [],
   "source": [
    "day1 = datetime.date.today()\n",
    "day2 = datetime.date(2018, 3, 29)"
   ]
  },
  {
   "cell_type": "code",
   "execution_count": null,
   "metadata": {},
   "outputs": [],
   "source": [
    "day1, day2"
   ]
  },
  {
   "cell_type": "markdown",
   "metadata": {},
   "source": [
    "If we subtract two dates the difference is the number of days"
   ]
  },
  {
   "cell_type": "code",
   "execution_count": null,
   "metadata": {},
   "outputs": [],
   "source": [
    "difference = day2 - day1"
   ]
  },
  {
   "cell_type": "markdown",
   "metadata": {},
   "source": [
    "If we try to subtract two time objects, we get a **TypeError**"
   ]
  },
  {
   "cell_type": "code",
   "execution_count": null,
   "metadata": {},
   "outputs": [],
   "source": [
    "time1 = datetime.time(22, 22, 22)\n",
    "time2 = datetime.time(20, 20, 20)"
   ]
  },
  {
   "cell_type": "code",
   "execution_count": null,
   "metadata": {},
   "outputs": [],
   "source": [
    "diff = time1 - time2\n",
    "diff"
   ]
  },
  {
   "cell_type": "markdown",
   "metadata": {},
   "source": [
    "we can have microseconds, milliseconds, seconds, minutes, hours, days, weeks as the arguments for the timedelta object"
   ]
  },
  {
   "cell_type": "code",
   "execution_count": null,
   "metadata": {},
   "outputs": [],
   "source": [
    "print(\"microseconds: \", datetime.timedelta(microseconds = 22))\n",
    "print(\"milliseconds: \", datetime.timedelta(milliseconds = 23))\n",
    "print(\"seconds: \", datetime.timedelta(seconds = 24))\n",
    "print(\"minutes: \", datetime.timedelta(minutes = 25))\n",
    "print(\"hours: \", datetime.timedelta(hours = 26))\n",
    "print(\"days: \", datetime.timedelta(days = 27))\n",
    "print(\"weeks: \", datetime.timedelta(weeks = 28))"
   ]
  },
  {
   "cell_type": "code",
   "execution_count": null,
   "metadata": {},
   "outputs": [],
   "source": [
    "datetime.timedelta(minutes = 30)"
   ]
  },
  {
   "cell_type": "markdown",
   "metadata": {},
   "source": [
    "as you see, minutes are converted to seconds as only days, seconds and microseconds are stored internally and the rest are converted"
   ]
  },
  {
   "cell_type": "markdown",
   "metadata": {},
   "source": [
    "since the difference between two dates is a timedelta object, we can use the timedelta functions on it"
   ]
  },
  {
   "cell_type": "code",
   "execution_count": null,
   "metadata": {},
   "outputs": [],
   "source": [
    "difference.total_seconds()"
   ]
  },
  {
   "cell_type": "markdown",
   "metadata": {},
   "source": [
    "timedelta can also be used to calculate future times."
   ]
  },
  {
   "cell_type": "code",
   "execution_count": null,
   "metadata": {},
   "outputs": [],
   "source": [
    "val = datetime.datetime.now() + datetime.timedelta(weeks = 1)"
   ]
  },
  {
   "cell_type": "code",
   "execution_count": null,
   "metadata": {},
   "outputs": [],
   "source": [
    "print(\"one week from now it will be: {}\".format(val.strftime('%B %d, %Y')))"
   ]
  }
 ],
 "metadata": {
  "kernelspec": {
   "display_name": "Python 2",
   "language": "python",
   "name": "python2"
  },
  "language_info": {
   "codemirror_mode": {
    "name": "ipython",
    "version": 2
   },
   "file_extension": ".py",
   "mimetype": "text/x-python",
   "name": "python",
   "nbconvert_exporter": "python",
   "pygments_lexer": "ipython2",
   "version": "2.7.14"
  }
 },
 "nbformat": 4,
 "nbformat_minor": 2
}
