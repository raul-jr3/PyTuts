{
 "cells": [
  {
   "cell_type": "markdown",
   "metadata": {
    "collapsed": true
   },
   "source": [
    "# datetime"
   ]
  },
  {
   "cell_type": "markdown",
   "metadata": {},
   "source": [
    "### The datetime module provides a number of classes to manipulate date and time and time intervals. Whenever we need to manipulate dates, times or datetimes we need to import the datetime module"
   ]
  },
  {
   "cell_type": "code",
   "execution_count": null,
   "metadata": {},
   "outputs": [],
   "source": [
    "import datetime"
   ]
  },
  {
   "cell_type": "markdown",
   "metadata": {},
   "source": [
    "### The datetime classes in Python are categorized into 5 classes:\n",
    "1. date - Manipulate only dates(Month, day, year)\n",
    "2. time - manipulate times (like hour, minute, second, microsecond)\n",
    "3. datetime - manipulate both date and time (year, month, day, hour, minute, second, microsecond)\n",
    "4. timedelta - a duration of time that can be used to manipulate dates\n",
    "5. tzinfo - an abstract class for dealing with timezones "
   ]
  },
  {
   "cell_type": "markdown",
   "metadata": {},
   "source": [
    "### There are two kinds of date and time objects: *aware* and *naive*"
   ]
  },
  {
   "cell_type": "markdown",
   "metadata": {},
   "source": [
    "*aware* - an aware object has sufficient knowledge of time adjustments, such as timezones and daylight saving time information, to locate itself relative to the other aware objects"
   ]
  },
  {
   "cell_type": "markdown",
   "metadata": {},
   "source": [
    "*naive* - a naive object is just like the opposite of an aware object.\n",
    "It cannot locate itself relative to other date/time objects"
   ]
  },
  {
   "cell_type": "markdown",
   "metadata": {},
   "source": [
    "For aware objects, the datetime module provides an optional tzinfo(abstract class) that can be set as an instance of the tzinfo class.\n",
    "These tzinfo objects capture information about timezone names, offset etc..."
   ]
  },
  {
   "cell_type": "markdown",
   "metadata": {},
   "source": [
    "### There are two constants provided by the datetime module"
   ]
  },
  {
   "cell_type": "markdown",
   "metadata": {},
   "source": [
    "The first one is datetime.MINYEAR:\n",
    "*this gives out the smallest year allowed in a date/datetime object.*\n",
    "**MINYEAR is 1**"
   ]
  },
  {
   "cell_type": "code",
   "execution_count": null,
   "metadata": {},
   "outputs": [],
   "source": [
    "datetime.MINYEAR"
   ]
  },
  {
   "cell_type": "markdown",
   "metadata": {},
   "source": [
    "The second one is datetime.MAXYEAR: *this gives out the largest year number allowed in a date/datetime object.* **MAXYEAR is 9999**"
   ]
  },
  {
   "cell_type": "code",
   "execution_count": null,
   "metadata": {},
   "outputs": [],
   "source": [
    "datetime.MAXYEAR"
   ]
  }
 ],
 "metadata": {
  "kernelspec": {
   "display_name": "Python 2",
   "language": "python",
   "name": "python2"
  },
  "language_info": {
   "codemirror_mode": {
    "name": "ipython",
    "version": 2
   },
   "file_extension": ".py",
   "mimetype": "text/x-python",
   "name": "python",
   "nbconvert_exporter": "python",
   "pygments_lexer": "ipython2",
   "version": "2.7.14"
  }
 },
 "nbformat": 4,
 "nbformat_minor": 1
}
