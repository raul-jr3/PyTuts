{
 "cells": [
  {
   "cell_type": "code",
   "execution_count": null,
   "metadata": {},
   "outputs": [],
   "source": [
    "import datetime"
   ]
  },
  {
   "cell_type": "markdown",
   "metadata": {},
   "source": [
    "### a simple program which tells when is your next birthday using the datetime module"
   ]
  },
  {
   "cell_type": "code",
   "execution_count": null,
   "metadata": {},
   "outputs": [],
   "source": [
    "def tell_birthday(birthday):\n",
    "#     take the current date(for reference)\n",
    "    today = datetime.date.today()\n",
    "#     if the birthday is over\n",
    "    if birthday < today:\n",
    "        print(\"your birthday is over mate!\")\n",
    "#         calculate the next birthday and calculate the difference\n",
    "        next_birthday = datetime.date(birthday.year + 1, birthday.month, birthday.day)\n",
    "        days_until_next_birthday = next_birthday - today\n",
    "        print(\"there are {} days until your next birthday\".format(days_until_next_birthday.days))\n",
    "    else:\n",
    "#         calculate the days until next birthday\n",
    "        print(\"your birthday is around the corner :D\")\n",
    "        days_until_birthday = birthday - today\n",
    "#         print(days_until_birthday.days)\n",
    "        print(\"your birthday in {} days\".format(days_until_birthday.days))"
   ]
  },
  {
   "cell_type": "code",
   "execution_count": null,
   "metadata": {},
   "outputs": [],
   "source": [
    "birthdate = datetime.date(2018, 7, 3)\n",
    "birthdate"
   ]
  },
  {
   "cell_type": "code",
   "execution_count": null,
   "metadata": {},
   "outputs": [],
   "source": [
    "tell_birthday(birthdate)"
   ]
  }
 ],
 "metadata": {
  "kernelspec": {
   "display_name": "Python 2",
   "language": "python",
   "name": "python2"
  },
  "language_info": {
   "codemirror_mode": {
    "name": "ipython",
    "version": 2
   },
   "file_extension": ".py",
   "mimetype": "text/x-python",
   "name": "python",
   "nbconvert_exporter": "python",
   "pygments_lexer": "ipython2",
   "version": "2.7.14"
  }
 },
 "nbformat": 4,
 "nbformat_minor": 2
}
